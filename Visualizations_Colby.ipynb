{
 "cells": [
  {
   "cell_type": "code",
   "execution_count": 4,
   "id": "240a5f1b-5f32-45b4-9d95-4ef6eb07187a",
   "metadata": {},
   "outputs": [],
   "source": [
    "import pandas as pd\n",
    "import numpy as np\n",
    "import seaborn as sns\n",
    "import matplotlib.pyplot as plt\n",
    "\n",
    "%matplotlib inline"
   ]
  },
  {
   "cell_type": "code",
   "execution_count": 5,
   "id": "59275d73-f520-4a47-b0e5-f617f75ac25a",
   "metadata": {},
   "outputs": [
    {
     "ename": "NameError",
     "evalue": "name 'engine_type' is not defined",
     "output_type": "error",
     "traceback": [
      "\u001b[0;31m---------------------------------------------------------------------------\u001b[0m",
      "\u001b[0;31mNameError\u001b[0m                                 Traceback (most recent call last)",
      "Cell \u001b[0;32mIn[5], line 2\u001b[0m\n\u001b[1;32m      1\u001b[0m \u001b[38;5;66;03m#useful dataframes created in cleaning and processing\u001b[39;00m\n\u001b[0;32m----> 2\u001b[0m \u001b[43mengine_type\u001b[49m\n\u001b[1;32m      3\u001b[0m purpose_of_flight\n\u001b[1;32m      4\u001b[0m weather_condition\n",
      "\u001b[0;31mNameError\u001b[0m: name 'engine_type' is not defined"
     ]
    }
   ],
   "source": [
    "#useful dataframes created in cleaning and processing\n",
    "engine_type\n",
    "purpose_of_flight\n",
    "weather_condition\n",
    "broad_phase_of_flight\n",
    "engine_num"
   ]
  },
  {
   "cell_type": "code",
   "execution_count": 6,
   "id": "b38a71a1-6ab5-4bb0-addf-54701040ccf8",
   "metadata": {},
   "outputs": [
    {
     "ename": "NameError",
     "evalue": "name 'top_ten_small_planes_model' is not defined",
     "output_type": "error",
     "traceback": [
      "\u001b[0;31m---------------------------------------------------------------------------\u001b[0m",
      "\u001b[0;31mNameError\u001b[0m                                 Traceback (most recent call last)",
      "Cell \u001b[0;32mIn[6], line 4\u001b[0m\n\u001b[1;32m      1\u001b[0m \u001b[38;5;66;03m#\u001b[39;00m\n\u001b[0;32m----> 4\u001b[0m x1 \u001b[38;5;241m=\u001b[39m \u001b[43mtop_ten_small_planes_model\u001b[49m\n\u001b[1;32m      5\u001b[0m y1 \u001b[38;5;241m=\u001b[39m top_ten_small_planes_percunij\n\u001b[1;32m      7\u001b[0m x2 \u001b[38;5;241m=\u001b[39m \u001b[38;5;28mlist\u001b[39m(by_model_final_over_20\u001b[38;5;241m.\u001b[39mindex)\n",
      "\u001b[0;31mNameError\u001b[0m: name 'top_ten_small_planes_model' is not defined"
     ]
    }
   ],
   "source": [
    "#\n",
    "\n",
    "\n",
    "x1 = top_ten_small_planes_model\n",
    "y1 = top_ten_small_planes_percunij\n",
    "\n",
    "x2 = list(by_model_final_over_20.index)\n",
    "y2 = list(by_model_final_over_20['Percent.Uninjured'])\n",
    "\n",
    "fig, ax = plt.subplots(1, 2, figsize = (12,8))\n",
    "\n",
    "# Plot data\n",
    "\n",
    "ax[0].bar(x1, y1)\n",
    "ax[1].bar(x2, y2)\n",
    "\n",
    "# Customize appearance\n",
    "ax[0].tick_params(axis=\"x\", labelrotation=90)\n",
    "ax[0].set_ylabel(\"Percentage Uninjured\")\n",
    "ax[0].set_xlabel(\"Plane Model\")\n",
    "ax[0].set_title(\"Percentage Uninjured in Planes with a Capacity < 20\") \n",
    "ax[1].tick_params(axis=\"x\", labelrotation=90)\n",
    "ax[1].set_ylabel(\"Percentage Uninjured\")\n",
    "ax[1].set_xlabel(\"Plane Model\")\n",
    "ax[1].set_title(\"Percentage Uninjured in Planes with a Capacity > 20\") "
   ]
  },
  {
   "cell_type": "code",
   "execution_count": null,
   "id": "fcf2d942-7f94-4eca-8b15-2ed4726dd2e0",
   "metadata": {},
   "outputs": [],
   "source": [
    "df_trimmed"
   ]
  },
  {
   "cell_type": "code",
   "execution_count": null,
   "id": "b8282557-f0c7-4e7a-b1c5-553962f90a7b",
   "metadata": {},
   "outputs": [],
   "source": [
    "#bar graph by engine type\n",
    "engine_type\n",
    "\n",
    "x = list(engine_type.index)\n",
    "y = list(engine_type['Percent.Uninjured'])\n",
    "fig, ax = plt.subplots()\n",
    "\n",
    "# Plot data\n",
    "ax.bar(x, y)\n",
    "\n",
    "# Customize appearance\n",
    "ax.tick_params(axis=\"x\", labelrotation=90)\n",
    "\n",
    "ax.set_ylabel(\"Percentage Uninjured\")\n",
    "\n",
    "ax.set_xlabel('Engine Type')\n",
    "\n",
    "ax.set_title(\"Percentage Uninjured by Engine Type\")"
   ]
  },
  {
   "cell_type": "raw",
   "id": "cf2e712e-3fbf-4f4a-81cc-8bf6e10cb9b3",
   "metadata": {},
   "source": [
    "#bar graph for Purpose of flight\n",
    "\n",
    "x = list(purpose_of_flight.index)\n",
    "y = list(purpose_of_flight['Percent.Uninjured'])\n",
    "fig, ax = plt.subplots()\n",
    "\n",
    "# Plot data\n",
    "ax.bar(x, y)\n",
    "\n",
    "# Customize appearance\n",
    "ax.tick_params(axis=\"x\", labelrotation=90)\n",
    "\n",
    "ax.set_ylabel(\"Percentage Uninjured\")\n",
    "\n",
    "ax.set_xlabel('Purpose of Flight')\n",
    "\n",
    "ax.set_title(\"Percentage Uninjured by Purpose of Flight\")"
   ]
  },
  {
   "cell_type": "code",
   "execution_count": null,
   "id": "a3e99efb-bd0a-451c-b294-5ae24d2de4dc",
   "metadata": {},
   "outputs": [],
   "source": [
    "#Bar graph by weather condition\n",
    "weather_condition\n",
    "\n",
    "x = list(weather_condition.index)\n",
    "y = list(weather_condition['Percent.Uninjured'])\n",
    "fig, ax = plt.subplots()\n",
    "\n",
    "# Plot data\n",
    "ax.bar(x, y)\n",
    "\n",
    "# Customize appearance\n",
    "ax.tick_params(axis=\"x\", labelrotation=90)\n",
    "\n",
    "ax.set_ylabel(\"Percentage Uninjured\")\n",
    "\n",
    "ax.set_xlabel('Weather Condition')\n",
    "\n",
    "ax.set_title(\"Percentage Uninjured by Weather Condition\")"
   ]
  },
  {
   "cell_type": "code",
   "execution_count": null,
   "id": "59c9aef7-12ad-42a3-9811-433186a6c5b4",
   "metadata": {},
   "outputs": [],
   "source": [
    "#broad phase of flight bar graph\n",
    "broad_phase_of_flight\n",
    "\n",
    "x = list(broad_phase_of_flight.index)\n",
    "y = list(broad_phase_of_flight['Percent.Uninjured'])\n",
    "fig, ax = plt.subplots()\n",
    "\n",
    "# Plot data\n",
    "ax.bar(x, y)\n",
    "\n",
    "# Customize appearance\n",
    "ax.tick_params(axis=\"x\", labelrotation=90)\n",
    "\n",
    "ax.set_ylabel(\"Percentage Uninjured\")\n",
    "\n",
    "ax.set_xlabel('Broad Phase of Flight')\n",
    "\n",
    "ax.set_title(\"Percentage Uninjured by Broad Phase of Flight\")"
   ]
  },
  {
   "cell_type": "code",
   "execution_count": null,
   "id": "98dac2ad-856e-429e-b9c2-79a7db70ad35",
   "metadata": {},
   "outputs": [],
   "source": [
    "#engine number bar graph\n",
    "engine_num.sort_values(by = 'Percent.Uninjured')\n",
    "\n",
    "x = list(engine_num.index)\n",
    "y = list(engine_num['Percent.Uninjured'])\n",
    "fig, ax = plt.subplots()\n",
    "\n",
    "# Plot data\n",
    "ax.bar(x, y)\n",
    "\n",
    "# Customize appearance\n",
    "ax.tick_params(axis=\"x\", labelrotation=90)\n",
    "\n",
    "ax.set_ylabel(\"Percentage Uninjured\")\n",
    "\n",
    "ax.set_xlabel('Engine Number')\n",
    "\n",
    "ax.set_title(\"Percentage Uninjured by Engine Number\")"
   ]
  },
  {
   "cell_type": "code",
   "execution_count": null,
   "id": "2a34d704-d9c7-4f82-8695-8a53aa133176",
   "metadata": {},
   "outputs": [],
   "source": [
    "#location bar graph\n",
    "\n",
    "\n",
    "x = list(location_of_flight.index)[-10:]\n",
    "y = list(location_of_flight['Percent.Uninjured'])[-10:]\n",
    "fig, ax = plt.subplots()\n",
    "\n",
    "# Plot data\n",
    "ax.bar(x, y)\n",
    "\n",
    "# Customize appearance\n",
    "ax.tick_params(axis=\"x\", labelrotation=90)\n",
    "\n",
    "ax.set_ylabel(\"Percentage Uninjured\")\n",
    "\n",
    "ax.set_xlabel('Location')\n",
    "\n",
    "ax.set_title(\"Percentage Uninjured by Location\")"
   ]
  },
  {
   "cell_type": "code",
   "execution_count": null,
   "id": "e6cab1d2-897e-46a7-8a69-806c1ff20b09",
   "metadata": {},
   "outputs": [],
   "source": []
  }
 ],
 "metadata": {
  "kernelspec": {
   "display_name": "Python 3 (ipykernel)",
   "language": "python",
   "name": "python3"
  },
  "language_info": {
   "codemirror_mode": {
    "name": "ipython",
    "version": 3
   },
   "file_extension": ".py",
   "mimetype": "text/x-python",
   "name": "python",
   "nbconvert_exporter": "python",
   "pygments_lexer": "ipython3",
   "version": "3.9.16"
  }
 },
 "nbformat": 4,
 "nbformat_minor": 5
}

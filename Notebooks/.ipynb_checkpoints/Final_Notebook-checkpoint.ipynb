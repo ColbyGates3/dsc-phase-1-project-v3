{
 "cells": [
  {
   "cell_type": "markdown",
   "metadata": {},
   "source": [
    "## Final Project Submission\n",
    "\n",
    "Please fill out:\n",
    "* Student name: Noah Hunsicker, Colby Gates\n",
    "* Student pace: Full time\n",
    "* Scheduled project review date/time: \n",
    "* Instructor name: Praveen Gowtham\n",
    "* Blog post URL: "
   ]
  },
  {
   "cell_type": "markdown",
   "metadata": {},
   "source": [
    "# Reccomending Airplanes to Purchase by Minimizing Risk"
   ]
  },
  {
   "cell_type": "markdown",
   "metadata": {},
   "source": [
    "# Goals"
   ]
  },
  {
   "cell_type": "markdown",
   "metadata": {},
   "source": [
    "Our task was to identify airplanes for the buisness to purchased based on which planes we identified as having the lowest risk to the company. There are many ways to interpret this question whether that be minimizing financial risk, maximizing aircraft longeviety, or the option that we chose, minimizing the risk to passengers in the event of an incident or accident occuring on board. "
   ]
  },
  {
   "cell_type": "markdown",
   "metadata": {},
   "source": [
    "To answer this question we will parse the relevant data, isolate varibles that are most useful for identifying which airplanes are best at \n",
    "keeping passengers alive, and then these applying statistics to our dataset to discover which airplanes perform the best."
   ]
  },
  {
   "cell_type": "markdown",
   "metadata": {},
   "source": [
    "# Data"
   ]
  },
  {
   "cell_type": "markdown",
   "metadata": {},
   "source": [
    "The data that we are using for our analysis comes from a kaggle [dataset](https://www.kaggle.com/datasets/khsamaha/aviation-accident-database-synopses) which is taken from the National Transportation Safety Board. This dataset contains information on aircraft incidents and accidents in the United States dating back to 1962. This dataset takes the form of a CSV that we converted to a pandas dataframe for an easier time cleaning and manipulating the data. For full documentation on the data cleaning process refrence the Data_Exploration_Cleaning jupyter notebook in the notebooks folder. After the data was cleaned we exported it to a new CSV for manipulation, statistical aggregation, and use in tableau. "
   ]
  },
  {
   "cell_type": "code",
   "execution_count": 2,
   "metadata": {},
   "outputs": [],
   "source": [
    "import pandas as pd \n",
    "df = pd.read_csv('../data/final_data.csv')"
   ]
  },
  {
   "cell_type": "markdown",
   "metadata": {},
   "source": [
    "# Methods"
   ]
  },
  {
   "cell_type": "markdown",
   "metadata": {},
   "source": [
    "Before we dive into the methodology we used for identifying planes that are best at keeping passengers safe in the event of an incident or accident it is important to note why we chose this metric over other potential metrics that one may think are better suited at answering a broad question such as \"how do we minimize risk\"."
   ]
  },
  {
   "cell_type": "markdown",
   "metadata": {},
   "source": [
    "The first metric we considered was a figuring out which planes have the least incidents and accidents as those planes should be considered the least risky. The problem with this is that our dataset does not contain data on ALL flights taken by each aircraft, just data on events that happen on aircrafts. This means that we have no way of knowing which airplanes have more accidents than others, just data on the outcomes of accidents when they do happen. If we had data on how many flights took place for each make and model in the given time frame we could have made this analysis, but with what we had it was not possible."
   ]
  },
  {
   "cell_type": "markdown",
   "metadata": {},
   "source": [
    "The second metric that we considered was using a net cost function based on all of the factors that we had to try to come up with a overall monetary cost of each plane crashing based on a [model](https://www.nlr.org/wp-content/uploads/2019/10/App-11-NLR-9-CR-2008-307.pdf) origionally put out by the Netherlands Air Transport Safety Institute. However this model requires us to have the cost of each craft, the insurance value of each craft, the cost of a closure at the airport that has to deal with the recovery from the accident, and the amount of damage that the aircraft sustained, which was not contained in our dataset."
   ]
  },
  {
   "cell_type": "markdown",
   "metadata": {},
   "source": [
    "This led us to approaching the question from an angle centered around minimizing injury as we have data on the severity of injury for each event. At first we were measuring which airplanes were best at keeping passengers uninjured, but we dicided that it was more important to focus on minimizing major and fatal injuries as minor injuries, while unfortunate, do not outweigh the need to prevent death and permanent injury.  "
   ]
  },
  {
   "cell_type": "markdown",
   "metadata": {},
   "source": [
    "To find this value for each plane we created a new variable calculating the passengers per flight which was equal to the sum of the major injury, minor injury, fatal injury, and uninjured columns combined. Then we constructed a variable equal to the number of major injuries plus the number of fatal injuries in each event. Finally we divided the number of major and fatal injuries by the number of passengers to get the percent of passengers seriously injured or killed. We then grouped our data by each model of plane and sorted by percent of passengers with serious and fatal injuries to find the best and worst planes. "
   ]
  },
  {
   "cell_type": "markdown",
   "metadata": {},
   "source": [
    "There were a few other metrics that we looked at to make additional reccomendations so that we were able to guide the airplane purchase process as best as possible. "
   ]
  },
  {
   "cell_type": "markdown",
   "metadata": {},
   "source": [
    "The first of these additional metrics that we chose to investigate was engine type, we hypothesized that "
   ]
  },
  {
   "cell_type": "markdown",
   "metadata": {},
   "source": [
    "state"
   ]
  },
  {
   "cell_type": "markdown",
   "metadata": {},
   "source": [
    "purpose"
   ]
  },
  {
   "cell_type": "markdown",
   "metadata": {},
   "source": [
    "weather condition"
   ]
  },
  {
   "cell_type": "markdown",
   "metadata": {},
   "source": [
    "broad phase of flight"
   ]
  },
  {
   "cell_type": "markdown",
   "metadata": {},
   "source": [
    "engine number"
   ]
  }
 ],
 "metadata": {
  "kernelspec": {
   "display_name": "Python 3 (ipykernel)",
   "language": "python",
   "name": "python3"
  },
  "language_info": {
   "codemirror_mode": {
    "name": "ipython",
    "version": 3
   },
   "file_extension": ".py",
   "mimetype": "text/x-python",
   "name": "python",
   "nbconvert_exporter": "python",
   "pygments_lexer": "ipython3",
   "version": "3.9.16"
  }
 },
 "nbformat": 4,
 "nbformat_minor": 4
}

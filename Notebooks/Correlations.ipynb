{
 "cells": [
  {
   "cell_type": "code",
   "execution_count": 91,
   "id": "9a40e757-0245-45b6-bf77-6ff2a7abc11b",
   "metadata": {},
   "outputs": [
    {
     "data": {
      "text/plain": [
       "-0.8309562697322536"
      ]
     },
     "execution_count": 91,
     "metadata": {},
     "output_type": "execute_result"
    }
   ],
   "source": [
    "df_trimmed['Percent.Serious.and.Fatal'].corr(df_trimmed['Percent.Uninjured'])"
   ]
  },
  {
   "cell_type": "code",
   "execution_count": 95,
   "id": "f10f868d-3816-4283-b4e7-685d8ff0974f",
   "metadata": {},
   "outputs": [],
   "source": []
  },
  {
   "cell_type": "code",
   "execution_count": 96,
   "id": "7a70e24f-6011-4044-834e-f7bfd74f5810",
   "metadata": {},
   "outputs": [
    {
     "data": {
      "text/html": [
       "<div>\n",
       "<style scoped>\n",
       "    .dataframe tbody tr th:only-of-type {\n",
       "        vertical-align: middle;\n",
       "    }\n",
       "\n",
       "    .dataframe tbody tr th {\n",
       "        vertical-align: top;\n",
       "    }\n",
       "\n",
       "    .dataframe thead th {\n",
       "        text-align: right;\n",
       "    }\n",
       "</style>\n",
       "<table border=\"1\" class=\"dataframe\">\n",
       "  <thead>\n",
       "    <tr style=\"text-align: right;\">\n",
       "      <th></th>\n",
       "      <th>Max.Capacity</th>\n",
       "      <th>Percent.Serious.and.Fatal</th>\n",
       "      <th>Percent.Uninjured</th>\n",
       "      <th>Counts.Per.Model</th>\n",
       "    </tr>\n",
       "    <tr>\n",
       "      <th>Make.Model</th>\n",
       "      <th></th>\n",
       "      <th></th>\n",
       "      <th></th>\n",
       "      <th></th>\n",
       "    </tr>\n",
       "  </thead>\n",
       "  <tbody>\n",
       "    <tr>\n",
       "      <th>piperPA34</th>\n",
       "      <td>7.0</td>\n",
       "      <td>57.175325</td>\n",
       "      <td>38.636364</td>\n",
       "      <td>44</td>\n",
       "    </tr>\n",
       "    <tr>\n",
       "      <th>air tractorAT502</th>\n",
       "      <td>2.0</td>\n",
       "      <td>61.111111</td>\n",
       "      <td>33.333333</td>\n",
       "      <td>36</td>\n",
       "    </tr>\n",
       "    <tr>\n",
       "      <th>beechV35</th>\n",
       "      <td>4.0</td>\n",
       "      <td>52.000000</td>\n",
       "      <td>41.428571</td>\n",
       "      <td>35</td>\n",
       "    </tr>\n",
       "  </tbody>\n",
       "</table>\n",
       "</div>"
      ],
      "text/plain": [
       "                  Max.Capacity  Percent.Serious.and.Fatal  Percent.Uninjured  \\\n",
       "Make.Model                                                                     \n",
       "piperPA34                  7.0                  57.175325          38.636364   \n",
       "air tractorAT502           2.0                  61.111111          33.333333   \n",
       "beechV35                   4.0                  52.000000          41.428571   \n",
       "\n",
       "                  Counts.Per.Model  \n",
       "Make.Model                          \n",
       "piperPA34                       44  \n",
       "air tractorAT502                36  \n",
       "beechV35                        35  "
      ]
     },
     "execution_count": 96,
     "metadata": {},
     "output_type": "execute_result"
    }
   ],
   "source": []
  },
  {
   "cell_type": "code",
   "execution_count": null,
   "id": "5d893aca-9cea-4fe4-a6c5-c28b53be8e22",
   "metadata": {},
   "outputs": [],
   "source": []
  }
 ],
 "metadata": {
  "kernelspec": {
   "display_name": "Python 3 (ipykernel)",
   "language": "python",
   "name": "python3"
  },
  "language_info": {
   "codemirror_mode": {
    "name": "ipython",
    "version": 3
   },
   "file_extension": ".py",
   "mimetype": "text/x-python",
   "name": "python",
   "nbconvert_exporter": "python",
   "pygments_lexer": "ipython3",
   "version": "3.11.4"
  }
 },
 "nbformat": 4,
 "nbformat_minor": 5
}

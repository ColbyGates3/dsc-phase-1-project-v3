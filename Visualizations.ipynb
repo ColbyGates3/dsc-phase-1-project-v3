{
 "cells": [
  {
   "cell_type": "code",
   "execution_count": 5,
   "id": "240a5f1b-5f32-45b4-9d95-4ef6eb07187a",
   "metadata": {},
   "outputs": [],
   "source": [
    "import pandas as pd\n",
    "import numpy as np\n",
    "import seaborn as sns\n",
    "import matplotlib.pyplot as plt\n",
    "\n",
    "%matplotlib inline"
   ]
  },
  {
   "cell_type": "code",
   "execution_count": 1,
   "id": "59275d73-f520-4a47-b0e5-f617f75ac25a",
   "metadata": {},
   "outputs": [
    {
     "ename": "NameError",
     "evalue": "name 'engine_num' is not defined",
     "output_type": "error",
     "traceback": [
      "\u001b[0;31m---------------------------------------------------------------------------\u001b[0m",
      "\u001b[0;31mNameError\u001b[0m                                 Traceback (most recent call last)",
      "Cell \u001b[0;32mIn[1], line 2\u001b[0m\n\u001b[1;32m      1\u001b[0m \u001b[38;5;66;03m#useful dataframes created in cleaning and processing\u001b[39;00m\n\u001b[0;32m----> 2\u001b[0m \u001b[43mengine_num\u001b[49m\n",
      "\u001b[0;31mNameError\u001b[0m: name 'engine_num' is not defined"
     ]
    }
   ],
   "source": [
    "#useful dataframes created in cleaning and processing\n",
    "engine_num\n",
    "engine_type\n",
    "purpose_of_flight\n",
    "weather_condition\n",
    "broad_phase_of_flight"
   ]
  },
  {
   "cell_type": "code",
   "execution_count": 6,
   "id": "b38a71a1-6ab5-4bb0-addf-54701040ccf8",
   "metadata": {},
   "outputs": [
    {
     "ename": "NameError",
     "evalue": "name 'list_of_models_filtered' is not defined",
     "output_type": "error",
     "traceback": [
      "\u001b[0;31m---------------------------------------------------------------------------\u001b[0m",
      "\u001b[0;31mNameError\u001b[0m                                 Traceback (most recent call last)",
      "Cell \u001b[0;32mIn[6], line 1\u001b[0m\n\u001b[0;32m----> 1\u001b[0m x \u001b[38;5;241m=\u001b[39m \u001b[43mlist_of_models_filtered\u001b[49m\n\u001b[1;32m      2\u001b[0m y \u001b[38;5;241m=\u001b[39m perc_uninj_filtered\n\u001b[1;32m      3\u001b[0m fig, ax \u001b[38;5;241m=\u001b[39m plt\u001b[38;5;241m.\u001b[39msubplots()\n",
      "\u001b[0;31mNameError\u001b[0m: name 'list_of_models_filtered' is not defined"
     ]
    }
   ],
   "source": [
    "x = list_of_models_filtered\n",
    "y = perc_uninj_filtered\n",
    "fig, ax = plt.subplots()\n",
    "\n",
    "# Create variables for easier reuse\n",
    "\n",
    "# Plot data\n",
    "ax.bar(x, y)\n",
    "# Customize appearance\n",
    "ax.tick_params(axis=\"x\", labelrotation=90)\n",
    "\n",
    "ax.set_ylabel(\"Percentage Uninjured\")\n",
    "\n",
    "ax.set_title(\"Percentage Uninjured\")"
   ]
  },
  {
   "cell_type": "code",
   "execution_count": null,
   "id": "b8282557-f0c7-4e7a-b1c5-553962f90a7b",
   "metadata": {},
   "outputs": [],
   "source": []
  }
 ],
 "metadata": {
  "kernelspec": {
   "display_name": "Python 3 (ipykernel)",
   "language": "python",
   "name": "python3"
  },
  "language_info": {
   "codemirror_mode": {
    "name": "ipython",
    "version": 3
   },
   "file_extension": ".py",
   "mimetype": "text/x-python",
   "name": "python",
   "nbconvert_exporter": "python",
   "pygments_lexer": "ipython3",
   "version": "3.11.4"
  }
 },
 "nbformat": 4,
 "nbformat_minor": 5
}

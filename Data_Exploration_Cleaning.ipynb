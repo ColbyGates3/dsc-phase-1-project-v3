{
 "cells": [
  {
   "cell_type": "code",
   "execution_count": 1,
   "id": "06c81301-5777-44a3-b1d1-c105bb601daf",
   "metadata": {},
   "outputs": [],
   "source": [
    "import pandas as pd"
   ]
  },
  {
   "cell_type": "code",
   "execution_count": 2,
   "id": "f029abfb-0297-4d03-81d8-6a201898a357",
   "metadata": {},
   "outputs": [
    {
     "name": "stderr",
     "output_type": "stream",
     "text": [
      "/var/folders/bt/mf607s9n0xs6sr08g8c44w9c0000gn/T/ipykernel_19212/3151680963.py:1: DtypeWarning: Columns (6,7,28) have mixed types. Specify dtype option on import or set low_memory=False.\n",
      "  df = pd.read_csv('data/Aviation_Data.csv')\n"
     ]
    }
   ],
   "source": [
    "df = pd.read_csv('data/Aviation_Data.csv')"
   ]
  },
  {
   "cell_type": "code",
   "execution_count": 3,
   "id": "2d2559f3-f4f3-48f4-894b-f17127fcefe9",
   "metadata": {},
   "outputs": [
    {
     "name": "stdout",
     "output_type": "stream",
     "text": [
      "<class 'pandas.core.frame.DataFrame'>\n",
      "RangeIndex: 90348 entries, 0 to 90347\n",
      "Data columns (total 31 columns):\n",
      " #   Column                  Non-Null Count  Dtype  \n",
      "---  ------                  --------------  -----  \n",
      " 0   Event.Id                88889 non-null  object \n",
      " 1   Investigation.Type      90348 non-null  object \n",
      " 2   Accident.Number         88889 non-null  object \n",
      " 3   Event.Date              88889 non-null  object \n",
      " 4   Location                88837 non-null  object \n",
      " 5   Country                 88663 non-null  object \n",
      " 6   Latitude                34382 non-null  object \n",
      " 7   Longitude               34373 non-null  object \n",
      " 8   Airport.Code            50132 non-null  object \n",
      " 9   Airport.Name            52704 non-null  object \n",
      " 10  Injury.Severity         87889 non-null  object \n",
      " 11  Aircraft.damage         85695 non-null  object \n",
      " 12  Aircraft.Category       32287 non-null  object \n",
      " 13  Registration.Number     87507 non-null  object \n",
      " 14  Make                    88826 non-null  object \n",
      " 15  Model                   88797 non-null  object \n",
      " 16  Amateur.Built           88787 non-null  object \n",
      " 17  Number.of.Engines       82805 non-null  float64\n",
      " 18  Engine.Type             81793 non-null  object \n",
      " 19  FAR.Description         32023 non-null  object \n",
      " 20  Schedule                12582 non-null  object \n",
      " 21  Purpose.of.flight       82697 non-null  object \n",
      " 22  Air.carrier             16648 non-null  object \n",
      " 23  Total.Fatal.Injuries    77488 non-null  float64\n",
      " 24  Total.Serious.Injuries  76379 non-null  float64\n",
      " 25  Total.Minor.Injuries    76956 non-null  float64\n",
      " 26  Total.Uninjured         82977 non-null  float64\n",
      " 27  Weather.Condition       84397 non-null  object \n",
      " 28  Broad.phase.of.flight   61724 non-null  object \n",
      " 29  Report.Status           82505 non-null  object \n",
      " 30  Publication.Date        73659 non-null  object \n",
      "dtypes: float64(5), object(26)\n",
      "memory usage: 21.4+ MB\n"
     ]
    }
   ],
   "source": [
    "df.info()"
   ]
  },
  {
   "cell_type": "code",
   "execution_count": 4,
   "id": "ea647658-30d8-4e46-b47d-e5e6b75034e6",
   "metadata": {},
   "outputs": [
    {
     "data": {
      "text/plain": [
       "(90348, 31)"
      ]
     },
     "execution_count": 4,
     "metadata": {},
     "output_type": "execute_result"
    }
   ],
   "source": [
    "df.shape"
   ]
  },
  {
   "cell_type": "code",
   "execution_count": 5,
   "id": "a5cd2d0b-fc70-4568-9f22-90ae19490ef9",
   "metadata": {},
   "outputs": [
    {
     "data": {
      "text/html": [
       "<div>\n",
       "<style scoped>\n",
       "    .dataframe tbody tr th:only-of-type {\n",
       "        vertical-align: middle;\n",
       "    }\n",
       "\n",
       "    .dataframe tbody tr th {\n",
       "        vertical-align: top;\n",
       "    }\n",
       "\n",
       "    .dataframe thead th {\n",
       "        text-align: right;\n",
       "    }\n",
       "</style>\n",
       "<table border=\"1\" class=\"dataframe\">\n",
       "  <thead>\n",
       "    <tr style=\"text-align: right;\">\n",
       "      <th></th>\n",
       "      <th>Number.of.Engines</th>\n",
       "      <th>Total.Fatal.Injuries</th>\n",
       "      <th>Total.Serious.Injuries</th>\n",
       "      <th>Total.Minor.Injuries</th>\n",
       "      <th>Total.Uninjured</th>\n",
       "    </tr>\n",
       "  </thead>\n",
       "  <tbody>\n",
       "    <tr>\n",
       "      <th>count</th>\n",
       "      <td>82805.000000</td>\n",
       "      <td>77488.000000</td>\n",
       "      <td>76379.000000</td>\n",
       "      <td>76956.000000</td>\n",
       "      <td>82977.000000</td>\n",
       "    </tr>\n",
       "    <tr>\n",
       "      <th>mean</th>\n",
       "      <td>1.146585</td>\n",
       "      <td>0.647855</td>\n",
       "      <td>0.279881</td>\n",
       "      <td>0.357061</td>\n",
       "      <td>5.325440</td>\n",
       "    </tr>\n",
       "    <tr>\n",
       "      <th>std</th>\n",
       "      <td>0.446510</td>\n",
       "      <td>5.485960</td>\n",
       "      <td>1.544084</td>\n",
       "      <td>2.235625</td>\n",
       "      <td>27.913634</td>\n",
       "    </tr>\n",
       "    <tr>\n",
       "      <th>min</th>\n",
       "      <td>0.000000</td>\n",
       "      <td>0.000000</td>\n",
       "      <td>0.000000</td>\n",
       "      <td>0.000000</td>\n",
       "      <td>0.000000</td>\n",
       "    </tr>\n",
       "    <tr>\n",
       "      <th>25%</th>\n",
       "      <td>1.000000</td>\n",
       "      <td>0.000000</td>\n",
       "      <td>0.000000</td>\n",
       "      <td>0.000000</td>\n",
       "      <td>0.000000</td>\n",
       "    </tr>\n",
       "    <tr>\n",
       "      <th>50%</th>\n",
       "      <td>1.000000</td>\n",
       "      <td>0.000000</td>\n",
       "      <td>0.000000</td>\n",
       "      <td>0.000000</td>\n",
       "      <td>1.000000</td>\n",
       "    </tr>\n",
       "    <tr>\n",
       "      <th>75%</th>\n",
       "      <td>1.000000</td>\n",
       "      <td>0.000000</td>\n",
       "      <td>0.000000</td>\n",
       "      <td>0.000000</td>\n",
       "      <td>2.000000</td>\n",
       "    </tr>\n",
       "    <tr>\n",
       "      <th>max</th>\n",
       "      <td>8.000000</td>\n",
       "      <td>349.000000</td>\n",
       "      <td>161.000000</td>\n",
       "      <td>380.000000</td>\n",
       "      <td>699.000000</td>\n",
       "    </tr>\n",
       "  </tbody>\n",
       "</table>\n",
       "</div>"
      ],
      "text/plain": [
       "       Number.of.Engines  Total.Fatal.Injuries  Total.Serious.Injuries  \\\n",
       "count       82805.000000          77488.000000            76379.000000   \n",
       "mean            1.146585              0.647855                0.279881   \n",
       "std             0.446510              5.485960                1.544084   \n",
       "min             0.000000              0.000000                0.000000   \n",
       "25%             1.000000              0.000000                0.000000   \n",
       "50%             1.000000              0.000000                0.000000   \n",
       "75%             1.000000              0.000000                0.000000   \n",
       "max             8.000000            349.000000              161.000000   \n",
       "\n",
       "       Total.Minor.Injuries  Total.Uninjured  \n",
       "count          76956.000000     82977.000000  \n",
       "mean               0.357061         5.325440  \n",
       "std                2.235625        27.913634  \n",
       "min                0.000000         0.000000  \n",
       "25%                0.000000         0.000000  \n",
       "50%                0.000000         1.000000  \n",
       "75%                0.000000         2.000000  \n",
       "max              380.000000       699.000000  "
      ]
     },
     "execution_count": 5,
     "metadata": {},
     "output_type": "execute_result"
    }
   ],
   "source": [
    "df.describe()"
   ]
  },
  {
   "cell_type": "code",
   "execution_count": 15,
   "id": "634b9123-7496-461a-814e-35a13977c85f",
   "metadata": {},
   "outputs": [
    {
     "data": {
      "text/plain": [
       "Aircraft.damage\n",
       "Substantial    64148\n",
       "Destroyed      18623\n",
       "Minor           2805\n",
       "Unknown          119\n",
       "Name: count, dtype: int64"
      ]
     },
     "execution_count": 15,
     "metadata": {},
     "output_type": "execute_result"
    }
   ],
   "source": [
    "df['Aircraft.damage'].value_counts()"
   ]
  },
  {
   "cell_type": "code",
   "execution_count": 16,
   "id": "797e8f1c-d51c-4a94-99e5-3a6b5f5c770b",
   "metadata": {},
   "outputs": [
    {
     "data": {
      "text/plain": [
       "Event.Id                   1459\n",
       "Investigation.Type            0\n",
       "Accident.Number            1459\n",
       "Event.Date                 1459\n",
       "Location                   1511\n",
       "Country                    1685\n",
       "Latitude                  55966\n",
       "Longitude                 55975\n",
       "Airport.Code              40216\n",
       "Airport.Name              37644\n",
       "Injury.Severity            2459\n",
       "Aircraft.damage            4653\n",
       "Aircraft.Category         58061\n",
       "Registration.Number        2841\n",
       "Make                       1522\n",
       "Model                      1551\n",
       "Amateur.Built              1561\n",
       "Number.of.Engines          7543\n",
       "Engine.Type                8555\n",
       "FAR.Description           58325\n",
       "Schedule                  77766\n",
       "Purpose.of.flight          7651\n",
       "Air.carrier               73700\n",
       "Total.Fatal.Injuries      12860\n",
       "Total.Serious.Injuries    13969\n",
       "Total.Minor.Injuries      13392\n",
       "Total.Uninjured            7371\n",
       "Weather.Condition          5951\n",
       "Broad.phase.of.flight     28624\n",
       "Report.Status              7843\n",
       "Publication.Date          16689\n",
       "dtype: int64"
      ]
     },
     "execution_count": 16,
     "metadata": {},
     "output_type": "execute_result"
    }
   ],
   "source": [
    "df.isna().sum()"
   ]
  },
  {
   "cell_type": "code",
   "execution_count": null,
   "id": "80f8e426-dfee-4bd1-9f90-a75522edbc77",
   "metadata": {},
   "outputs": [],
   "source": [
    "#Most Important Columns need NAN cleaning\n",
    "#Total.Fatal.Injuries, Total.Serious.Injuries, Total.Minor.Injuries, Total.Uninjured,      "
   ]
  },
  {
   "cell_type": "code",
   "execution_count": null,
   "id": "8d938bd7-7296-4d57-9b6a-fdd1820a3354",
   "metadata": {},
   "outputs": [],
   "source": [
    "#DROP ROWS FIRST WITH NANS THEN DROP COLUMNS\n",
    "\n",
    "\n",
    "#DATA Cleaning\n",
    "# Change Injuiry.Severity, Aircraft.damage\n",
    "#rename Country column to state\n",
    "#Delete NANs Event.ID, Accident Number, Event Date (look closer, think they are all the same NANs), \n",
    "#Delete rows in Amateur.Built with values of yes\n",
    "\n",
    "#columns to drop: 'Latitude', 'Longitude', 'Airport.Code', 'Airport.Name', 'Accident.Number', 'Registration.Number', 'Country', 'Publication Date', 'Registration Number', 'Air Carrier', 'Report Status'\n"
   ]
  },
  {
   "cell_type": "code",
   "execution_count": 30,
   "id": "55ff9f1e-7c43-41cb-97c3-a25d524a70df",
   "metadata": {},
   "outputs": [
    {
     "name": "stdout",
     "output_type": "stream",
     "text": [
      "<class 'pandas.core.frame.DataFrame'>\n",
      "RangeIndex: 90348 entries, 0 to 90347\n",
      "Data columns (total 22 columns):\n",
      " #   Column                  Non-Null Count  Dtype  \n",
      "---  ------                  --------------  -----  \n",
      " 0   Event.Id                88889 non-null  object \n",
      " 1   Investigation.Type      90348 non-null  object \n",
      " 2   Event.Date              88889 non-null  object \n",
      " 3   Location                88837 non-null  object \n",
      " 4   Injury.Severity         87889 non-null  object \n",
      " 5   Aircraft.damage         85695 non-null  object \n",
      " 6   Aircraft.Category       32287 non-null  object \n",
      " 7   Make                    88826 non-null  object \n",
      " 8   Model                   88797 non-null  object \n",
      " 9   Amateur.Built           88787 non-null  object \n",
      " 10  Number.of.Engines       82805 non-null  float64\n",
      " 11  Engine.Type             81793 non-null  object \n",
      " 12  FAR.Description         32023 non-null  object \n",
      " 13  Schedule                12582 non-null  object \n",
      " 14  Purpose.of.flight       82697 non-null  object \n",
      " 15  Total.Fatal.Injuries    77488 non-null  float64\n",
      " 16  Total.Serious.Injuries  76379 non-null  float64\n",
      " 17  Total.Minor.Injuries    76956 non-null  float64\n",
      " 18  Total.Uninjured         82977 non-null  float64\n",
      " 19  Weather.Condition       84397 non-null  object \n",
      " 20  Broad.phase.of.flight   61724 non-null  object \n",
      " 21  Report.Status           82505 non-null  object \n",
      "dtypes: float64(5), object(17)\n",
      "memory usage: 15.2+ MB\n"
     ]
    }
   ],
   "source": [
    "columns_to_drop = ['Latitude', 'Longitude', 'Airport.Code', 'Airport.Name', 'Accident.Number', 'Registration.Number', 'Country', \n",
    "                   'Publication.Date', 'Registration.Number', 'Air.carrier']\n",
    "df_columns_dropped = df.drop(columns_to_drop, axis = 1)"
   ]
  },
  {
   "cell_type": "code",
   "execution_count": 36,
   "id": "974822e7-b5f0-4bb6-8f92-d17e166a2b57",
   "metadata": {},
   "outputs": [
    {
     "name": "stdout",
     "output_type": "stream",
     "text": [
      "<class 'pandas.core.frame.DataFrame'>\n",
      "Index: 80312 entries, 0 to 90347\n",
      "Data columns (total 21 columns):\n",
      " #   Column                  Non-Null Count  Dtype  \n",
      "---  ------                  --------------  -----  \n",
      " 0   Event.Id                80312 non-null  object \n",
      " 1   Investigation.Type      80312 non-null  object \n",
      " 2   Event.Date              80312 non-null  object \n",
      " 3   Location                80265 non-null  object \n",
      " 4   Injury.Severity         79313 non-null  object \n",
      " 5   Aircraft.damage         77165 non-null  object \n",
      " 6   Aircraft.Category       28721 non-null  object \n",
      " 7   Make                    80266 non-null  object \n",
      " 8   Model                   80245 non-null  object \n",
      " 9   Number.of.Engines       74606 non-null  float64\n",
      " 10  Engine.Type             73630 non-null  object \n",
      " 11  FAR.Description         28476 non-null  object \n",
      " 12  Schedule                12275 non-null  object \n",
      " 13  Purpose.of.flight       74242 non-null  object \n",
      " 14  Total.Fatal.Injuries    70155 non-null  float64\n",
      " 15  Total.Serious.Injuries  69228 non-null  float64\n",
      " 16  Total.Minor.Injuries    69755 non-null  float64\n",
      " 17  Total.Uninjured         75425 non-null  float64\n",
      " 18  Weather.Condition       75960 non-null  object \n",
      " 19  Broad.phase.of.flight   56146 non-null  object \n",
      " 20  Report.Status           74276 non-null  object \n",
      "dtypes: float64(5), object(16)\n",
      "memory usage: 13.5+ MB\n"
     ]
    }
   ],
   "source": [
    "df_columns_dropped_no_amatuer = df_columns_dropped[(df_columns_dropped['Amateur.Built'] == 'No')]\n",
    "\n",
    "\n",
    "df_columns_dropped_no_amatuer = df_columns_dropped_no_amatuer.drop(['Amateur.Built'], axis = 1)\n",
    "df_columns_dropped_no_amatuer.info()"
   ]
  },
  {
   "cell_type": "code",
   "execution_count": null,
   "id": "6ecb7dc0-4cbe-4972-b5f9-4608dc6f7759",
   "metadata": {},
   "outputs": [],
   "source": [
    "#New Metrics\n",
    "#Idea for metrics: looking at a percentage of passengers that remain uninjured: summing all injured and uninjured and using that to divide to\n",
    "#count of uninjured\n",
    "#metric Idea: give a severity score for each type of injury and then give a passenger safety score"
   ]
  },
  {
   "cell_type": "code",
   "execution_count": 23,
   "id": "20b34f37-f184-436a-a0f4-551c9e50d6c3",
   "metadata": {},
   "outputs": [
    {
     "data": {
      "text/plain": [
       "Report.Status\n",
       "Probable Cause                                                                                                                                                                                                                                                                                                                                                                                                                                                                                                                                                                                                                                                                                                        61754\n",
       "Foreign                                                                                                                                                                                                                                                                                                                                                                                                                                                                                                                                                                                                                                                                                                                1999\n",
       "<br /><br />                                                                                                                                                                                                                                                                                                                                                                                                                                                                                                                                                                                                                                                                                                            167\n",
       "Factual                                                                                                                                                                                                                                                                                                                                                                                                                                                                                                                                                                                                                                                                                                                 145\n",
       "The pilot's failure to maintain directional control during the landing roll.                                                                                                                                                                                                                                                                                                                                                                                                                                                                                                                                                                                                                                             58\n",
       "                                                                                                                                                                                                                                                                                                                                                                                                                                                                                                                                                                                                                                                                                                                      ...  \n",
       "The certified flight instructor's delayed remedial action and inadequate supervision during a practice autorotation. Contributing to the accident was the student pilot's excessive application of the throttle.                                                                                                                                                                                                                                                                                                                                                                                                                                                                                                          1\n",
       "The pilot's inadequate fuel management, which resulted in a loss of engine power due to fuel starvation.                                                                                                                                                                                                                                                                                                                                                                                                                                                                                                                                                                                                                  1\n",
       "Sundance Helicopters inadequate maintenance of the helicopter, including (1) the improper reuse of a degraded self-locking nut, (2) the improper or lack of installation of a split pin, and (3) inadequate postmaintenance inspections, which resulted in the in-flight separation of the servo control input rod from the fore/aft servo and rendered the helicopter uncontrollable. Contributing to the improper or lack of installation of the split pin was the mechanics fatigue and the lack of clearly delineated maintenance task steps to follow. Contributing to the inadequate postmaintenance inspection was the inspectors fatigue and the lack of clearly delineated inspection steps to follow.        1\n",
       "The total loss of engine power for reasons that could not be determined because postaccident examination of the airframe and engine did not reveal evidence of preaccident mechanical malfunctions or failures that would have precluded normal operation.                                                                                                                                                                                                                                                                                                                                                                                                                                                                1\n",
       "The pilots loss of control due to a wind gust during landing.                                                                                                                                                                                                                                                                                                                                                                                                                                                                                                                                                                                                                                                            1\n",
       "Name: count, Length: 17006, dtype: int64"
      ]
     },
     "execution_count": 23,
     "metadata": {},
     "output_type": "execute_result"
    }
   ],
   "source": [
    "df['Report.Status'].value_counts()"
   ]
  },
  {
   "cell_type": "code",
   "execution_count": null,
   "id": "4975c6af-941d-4635-ba4b-735f54cd15e4",
   "metadata": {},
   "outputs": [],
   "source": []
  }
 ],
 "metadata": {
  "kernelspec": {
   "display_name": "Python 3 (ipykernel)",
   "language": "python",
   "name": "python3"
  },
  "language_info": {
   "codemirror_mode": {
    "name": "ipython",
    "version": 3
   },
   "file_extension": ".py",
   "mimetype": "text/x-python",
   "name": "python",
   "nbconvert_exporter": "python",
   "pygments_lexer": "ipython3",
   "version": "3.11.4"
  }
 },
 "nbformat": 4,
 "nbformat_minor": 5
}
